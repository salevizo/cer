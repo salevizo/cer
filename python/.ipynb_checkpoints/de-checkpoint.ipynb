{
 "cells": [
  {
   "cell_type": "markdown",
   "metadata": {
    "collapsed": true
   },
   "source": [
    "# Fishing Messages Per Month"
   ]
  },
  {
   "cell_type": "code",
   "execution_count": 52,
   "metadata": {
    "collapsed": true
   },
   "outputs": [],
   "source": [
    "import pandas as pd\n",
    "import matplotlib.pyplot as plt"
   ]
  },
  {
   "cell_type": "code",
   "execution_count": 53,
   "metadata": {},
   "outputs": [],
   "source": [
    "df = pd.read_csv('../artikis_python/fishingmonth.csv', header=None,sep=';')"
   ]
  },
  {
   "cell_type": "code",
   "execution_count": 54,
   "metadata": {
    "scrolled": true
   },
   "outputs": [
    {
     "data": {
      "text/plain": [
       "<bound method DataFrame.head of         0   1\n",
       "0  266961   2\n",
       "1  190729   3\n",
       "2  169513  11\n",
       "3  151189  10\n",
       "4  119942  12\n",
       "5  115142   1\n",
       "6     120   9>"
      ]
     },
     "execution_count": 54,
     "metadata": {},
     "output_type": "execute_result"
    }
   ],
   "source": [
    "df.head"
   ]
  },
  {
   "cell_type": "code",
   "execution_count": 55,
   "metadata": {},
   "outputs": [
    {
     "data": {
      "image/png": "[encoded data removed]",
      "text/plain": [
       "<matplotlib.figure.Figure at 0x7fbbf4979fd0>"
      ]
     },
     "metadata": {},
     "output_type": "display_data"
    }
   ],
   "source": [
    "x1=[df[0][6], df[0][3], df[0][2],df[0][4],df[0][5], df[0][0], df[0][1]]\n",
    "x=[int(i)for i in x1 ]\n",
    "\n",
    "LABELS = [\"Sep\", \"Oct\", \"Nov\",\"Dec\",\"Jan\",\"Feb\",\"Mar\"]\n",
    "\n",
    "plt.plot([1,2,3,4,5,6,7], x,color='red')\n",
    "plt.xlabel('Fishing messages')\n",
    "plt.ylabel('Month')\n",
    "plt.xticks([1,2,3,4,5,6,7], LABELS)\n",
    "plt.grid()\n",
    "plt.show()\n"
   ]
  },
  {
   "cell_type": "code",
   "execution_count": 56,
   "metadata": {
    "scrolled": false
   },
   "outputs": [
    {
     "ename": "NameError",
     "evalue": "name 'data' is not defined",
     "output_type": "error",
     "traceback": [
      "\u001b[0;31m---------------------------------------------------------------------------\u001b[0m",
      "\u001b[0;31mNameError\u001b[0m                                 Traceback (most recent call last)",
      "\u001b[0;32m<ipython-input-56-92ab82a1ec45>\u001b[0m in \u001b[0;36m<module>\u001b[0;34m()\u001b[0m\n\u001b[1;32m      1\u001b[0m \u001b[0;32mimport\u001b[0m \u001b[0mseaborn\u001b[0m \u001b[0;32mas\u001b[0m \u001b[0msns\u001b[0m\u001b[0;34m\u001b[0m\u001b[0m\n\u001b[0;32m----> 2\u001b[0;31m \u001b[0;32mfor\u001b[0m \u001b[0mname\u001b[0m \u001b[0;32min\u001b[0m \u001b[0mlist\u001b[0m\u001b[0;34m(\u001b[0m\u001b[0mdata\u001b[0m\u001b[0;34m[\u001b[0m\u001b[0;34m'attributes'\u001b[0m\u001b[0;34m]\u001b[0m\u001b[0;34m[\u001b[0m\u001b[0;36m0\u001b[0m\u001b[0;34m:\u001b[0m\u001b[0;36m10\u001b[0m\u001b[0;34m]\u001b[0m\u001b[0;34m)\u001b[0m\u001b[0;34m:\u001b[0m\u001b[0;34m\u001b[0m\u001b[0m\n\u001b[0m\u001b[1;32m      3\u001b[0m     \u001b[0msns\u001b[0m\u001b[0;34m.\u001b[0m\u001b[0mkdeplot\u001b[0m\u001b[0;34m(\u001b[0m\u001b[0mdf\u001b[0m\u001b[0;34m[\u001b[0m\u001b[0mname\u001b[0m\u001b[0;34m[\u001b[0m\u001b[0;36m0\u001b[0m\u001b[0;34m]\u001b[0m\u001b[0;34m]\u001b[0m\u001b[0;34m,\u001b[0m \u001b[0mlabel\u001b[0m\u001b[0;34m=\u001b[0m\u001b[0mname\u001b[0m\u001b[0;34m[\u001b[0m\u001b[0;36m0\u001b[0m\u001b[0;34m]\u001b[0m\u001b[0;34m,\u001b[0m\u001b[0mshade\u001b[0m\u001b[0;34m=\u001b[0m\u001b[0mTrue\u001b[0m\u001b[0;34m)\u001b[0m\u001b[0;34m\u001b[0m\u001b[0m\n\u001b[1;32m      4\u001b[0m \u001b[0mplt\u001b[0m\u001b[0;34m.\u001b[0m\u001b[0mlegend\u001b[0m\u001b[0;34m(\u001b[0m\u001b[0;34m)\u001b[0m\u001b[0;34m;\u001b[0m\u001b[0;34m\u001b[0m\u001b[0m\n\u001b[1;32m      5\u001b[0m \u001b[0mplt\u001b[0m\u001b[0;34m.\u001b[0m\u001b[0mshow\u001b[0m\u001b[0;34m(\u001b[0m\u001b[0;34m)\u001b[0m\u001b[0;34m\u001b[0m\u001b[0m\n",
      "\u001b[0;31mNameError\u001b[0m: name 'data' is not defined"
     ]
    }
   ],
   "source": [
    "df = pd.read_csv('../artikis_python/vesselcount.csv', header=None,sep=';')"
   ]
  },
  {
   "cell_type": "code",
   "execution_count": 71,
   "metadata": {
    "collapsed": true
   },
   "outputs": [],
   "source": [
    "df = pd.read_csv('../artikis_python/vesselcount.csv',sep=';',header=None)"
   ]
  },
  {
   "cell_type": "code",
   "execution_count": 81,
   "metadata": {},
   "outputs": [
    {
     "name": "stdout",
     "output_type": "stream",
     "text": [
      "27\n"
     ]
    },
    {
     "data": {
      "image/png": "[encoded data removed]",
      "text/plain": [
       "<matplotlib.figure.Figure at 0x7fbbf452b950>"
      ]
     },
     "metadata": {},
     "output_type": "display_data"
    }
   ],
   "source": [
    "\n",
    "\n",
    "LABELS = df[0]\n",
    "print df[0].count()\n",
    "plt.bar([i for i in range(df[0].count())], df[1],color='red')\n",
    "plt.xlabel('Fishing messages')\n",
    "plt.ylabel('Month')\n",
    "plt.xticks([1,2,3,4,5,6,7], LABELS)\n",
    "plt.grid()\n",
    "plt.show()"
   ]
  },
  {
   "cell_type": "code",
   "execution_count": 7,
   "metadata": {},
   "outputs": [
    {
     "name": "stdout",
     "output_type": "stream",
     "text": [
      "Top 10 most useful features for predicting the class:\n",
      "1 - Elevation\n",
      "2 - Horizontal_Distance_To_Roadways\n",
      "3 - Horizontal_Distance_To_Fire_Points\n",
      "4 - Hillshade_Noon\n",
      "5 - Vertical_Distance_To_Hydrology\n",
      "6 - Aspect\n",
      "7 - Horizontal_Distance_To_Hydrology\n",
      "8 - Hillshade_9am\n",
      "9 - Hillshade_3pm\n",
      "10 - Slope\n"
     ]
    }
   ],
   "source": [
    "df = pd.read_csv('../artikis_python/fishingmonth.csv', header=None,sep=';')"
   ]
  },
  {
   "cell_type": "code",
   "execution_count": 8,
   "metadata": {
    "collapsed": true
   },
   "outputs": [],
   "source": [
    "df = pd.read_csv('../artikis_python/fishingmonth.csv', header=None,sep=';')"
   ]
  },
  {
   "cell_type": "code",
   "execution_count": 22,
   "metadata": {},
   "outputs": [
    {
     "name": "stdout",
     "output_type": "stream",
     "text": [
      "Algorithm performed  1000  iterations.Current rule length is  3 .\n",
      "Algorithm performed  2000  iterations.Current rule length is  4 .\n",
      "Algorithm performed  3000  iterations.Current rule length is  4 .\n",
      "Algorithm performed  4000  iterations.Current rule length is  4 .\n",
      "Algorithm performed  5000  iterations.Current rule length is  4 .\n",
      "Algorithm performed  6000  iterations.Current rule length is  4 .\n",
      "Time for processing rules:minutes:1 seconds:  58\n"
     ]
    }
   ],
   "source": [
    "import itertools\n",
    "import time\n",
    "label=['1st ','2nd ']\n",
    "lbls=[]\n",
    "dataset={}\n",
    "#Discretization of the continuous values of the attributes into binary.Split the dataset into two equals partitions\n",
    "#values that are smaller or bigger from the median value.\n",
    "for ind,attr in enumerate(top10):\n",
    "    dataset[attr]=pd.qcut(np.array(x.loc[:,x.columns==attr]).ravel(), len(label),labels=[label[0]+' '+attr,label[1]+' '+attr])\n",
    "    lbls.append(label[0]+' '+attr)\n",
    "    lbls.append(label[1]+' '+attr)\n",
    "\n",
    "y=np.array(y).ravel()\n",
    "confidence={}\n",
    "support={}\n",
    "klo=0\n",
    "length=len(y)\n",
    "class_vec={}\n",
    "w=[1,2,3,4,5,6,7]\n",
    "start = time.time()\n",
    "all_rules=[]\n",
    "for class_c in range(1,8):\n",
    "    class_vec[class_c]=np.array(y==str(class_c))\n",
    "for outer in range(1,5):\n",
    "    entered=0\n",
    "    for perm in itertools.combinations(lbls, outer):\n",
    "        my_ind=0\n",
    "        #TotalRule:The string containing the rule in form of R1^R2^R3...^Rk->class\n",
    "        totalRule=''\n",
    "        #The vector that will contain the result of the R1^R2^R3...Rk.\n",
    "        temp=''\n",
    "        #Due to permutation function, a lot of the combinations between the rules are irrelevant( for example combination of R1 and the opposit\n",
    "        #rule of R1)\n",
    "        dbl_rule=0\n",
    "        #Variable to check whether the support number falls lower than \n",
    "        threshold=0\n",
    "        klo+=1\n",
    "        if klo%1000==0:print 'Algorithm performed ',klo,' iterations.Current rule length is ',outer,'.'\n",
    "        for ind,rule in enumerate(perm):\n",
    "            #Split the string and get the name of the attribute. If that presents inside the rule more than one time('1st Elevation,'2nd elevation)\n",
    "            #skip this rule as there are no items that can satisfy them.\n",
    "             if len([k for k in perm if str(k.split(' ')[2])==((rule.split(' ')[2]))])>1:\n",
    "                    dbl_rule=1\n",
    "                    break\n",
    "        if dbl_rule==0:\n",
    "            #Base on the hypothesis that a frequent itemset contains frequent sub-itemsets, in case we encounter a rule that is of a form \n",
    "            # A^B^C  and we have already added the rule A^B, we do not perform any iteration on the first one because it will produce\n",
    "            if outer>1:\n",
    "                w=find_pred(perm,all_rules,[index_ for index_ in range(1,8)])\n",
    "            #print w\n",
    "            if len(w)!=0:\n",
    "                for ind,rule in enumerate(perm):\n",
    "                    totalRule=totalRule+'^'+rule\n",
    "                    #Calculate the total number of elements in the 1000 subset that satisfy the condition:\n",
    "                    #dataset[Feature Name]==Rule Value\n",
    "                    #eg dataset['Elevation']=='1st Elevation'\n",
    "                    #Returns a vector with true in the indices that satisfy,false otherwise.Afterwards,for each rule it performs the logical 'AND'\n",
    "                    #operation,producing the final result of the indices that satisfy the whole rule.\n",
    "                    if ind ==0:\n",
    "                        temp=dataset[str(rule).split(' ')[2]]==str(rule)\n",
    "                    else:\n",
    "                        temp=temp&(dataset[str(rule).split(' ')[2]]==str(rule))\n",
    "                    supp=sum(temp)/float(length)\n",
    "                    #Calculate support for each step.Because the rules are contain logical and between them,any rule we got will reduce the support\n",
    "                    #(if you add more restrictions,you get a smaller subset of instances).Thus ,if support fells behind a a number,there is no need\n",
    "                    #to continue calculating the rule.\n",
    "                    if supp<0.1:\n",
    "                        threshold=1\n",
    "                        break\n",
    "                if threshold==1:\n",
    "                    continue\n",
    "                else:\n",
    "                    for class_c in w:\n",
    "                        #Get all instances of dataset that their class is equal to the number presented each time.\n",
    "                        class_=class_vec[class_c]\n",
    "                        #Calculate the R1^R2^R3....RK->CLASS\n",
    "                        m_sum=sum(temp&class_)\n",
    "                        denominator=sum(temp)\n",
    "                        #Confidence=NUM(RULES->CLASS)/NUM(RULES)\n",
    "                        #Support=NUM(RULES->CLASS)/NUM(DATASET)\n",
    "                        conf=m_sum/float(denominator)\n",
    "                        supp=m_sum/float(length)\n",
    "                        if conf>=0.5 and supp>=0.1:\n",
    "                            #Assign the confidence and support to a dictionary with key RULES->CLASS\n",
    "                            confidence[totalRule[1:]+'->'+str(class_c)]=conf\n",
    "                            support[totalRule[1:]+'->'+str(class_c)]=supp\n",
    "                            #If we reach a state where no more knowledge can be extracted,leave the iteration.If we find no rules of length 5 \n",
    "                            #there definitely no reason to continue searching for bigger rules\n",
    "                            entered=outer\n",
    "                            lst=totalRule[1:].split('^')\n",
    "                            lst.append(class_c)\n",
    "                            all_rules.append(lst)\n",
    "                        \n",
    "                    \n",
    "    if entered==0:\n",
    "        print \"No new rules added,leaving...\",outer\n",
    "        break\n",
    "print 'Time for processing rules:minutes:%1.f seconds:%4.f'%((time.time()-start)/float(60),(time.time()-start))\n",
    "\n"
   ]
  },
  {
   "cell_type": "code",
   "execution_count": 31,
   "metadata": {},
   "outputs": [
    {
     "name": "stdout",
     "output_type": "stream",
     "text": [
      "Result  1\n",
      "------------------------------------------------------------------------\n",
      "Rule:1st  Elevation^2nd  Horizontal_Distance_To_Fire_Points->2\n",
      "Confidence:0.724444444444\n",
      "Support0.163\n",
      "\n",
      "Result  2\n",
      "------------------------------------------------------------------------\n",
      "Rule:1st  Elevation^2nd  Horizontal_Distance_To_Roadways->2\n",
      "Confidence:0.711229946524\n",
      "Support0.133\n",
      "\n",
      "Result  3\n",
      "------------------------------------------------------------------------\n",
      "Rule:2nd  Horizontal_Distance_To_Roadways^2nd  Horizontal_Distance_To_Fire_Points^2nd  Hillshade_Noon->2\n",
      "Confidence:0.666666666667\n",
      "Support0.108\n",
      "\n"
     ]
    }
   ],
   "source": [
    "d=0\n",
    "for key, value in sorted(confidence.iteritems(), key=lambda (k,v): (v,k),reverse=True):\n",
    "    if d<3:\n",
    "        print 'Result ',d+1\n",
    "        print '------------------------------------------------------------------------'\n",
    "        print \"Rule:%s\"%(key)  \n",
    "        print \"Confidence:%s\"%(value)\n",
    "        print \"Support%s\"%(support[key])\n",
    "        print \n",
    "    else:\n",
    "        break\n",
    "    d+=1"
   ]
  },
  {
   "cell_type": "code",
   "execution_count": null,
   "metadata": {
    "collapsed": true
   },
   "outputs": [],
   "source": []
  }
 ],
 "metadata": {
  "anaconda-cloud": {},
  "kernelspec": {
   "display_name": "Python 2",
   "language": "python",
   "name": "python2"
  },
  "language_info": {
   "codemirror_mode": {
    "name": "ipython",
    "version": 2
   },
   "file_extension": ".py",
   "mimetype": "text/x-python",
   "name": "python",
   "nbconvert_exporter": "python",
   "pygments_lexer": "ipython2",
   "version": "2.7.13"
  }
 },
 "nbformat": 4,
 "nbformat_minor": 1
}
